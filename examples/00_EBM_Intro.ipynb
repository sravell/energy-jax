{
 "cells": [
  {
   "attachments": {},
   "cell_type": "markdown",
   "id": "0ea0e715",
   "metadata": {},
   "source": [
    "# EBM Intro\n",
    "\n",
    "In this notebook we show the basic methods of an EBM, how to get the probabilities, which inputs are required etc.\n",
    "This notebook is aimed at future employees that need to get familiar with energax, not necessarily the end user."
   ]
  },
  {
   "cell_type": "code",
   "execution_count": null,
   "id": "dee4fc26",
   "metadata": {},
   "outputs": [],
   "source": [
    "from energax.sampling.discrete import CRBMGibbsSampler\n",
    "import jax\n",
    "from jax import numpy as jnp\n",
    "from energax.ebms.rbms import CategoricalRBM, get_random_crbm_params"
   ]
  },
  {
   "attachments": {},
   "cell_type": "markdown",
   "id": "0e7c85bb",
   "metadata": {},
   "source": [
    "### Define a categorical RBM\n",
    "\n",
    "with 4 visible units and 5 hidden units. We set the number of categories to `dim=3` for all the visible nodes. The hidden nodes are always binary for the current implementation of CRBMs. We also explicitly set `generate_bitstrings=True`, so that we can compute crbm.probability_vector() in the subsequent step. Note that this should be set to `False` for large systems."
   ]
  },
  {
   "cell_type": "code",
   "execution_count": 13,
   "id": "527578a5",
   "metadata": {},
   "outputs": [],
   "source": [
    "vis = 4\n",
    "hid = 5\n",
    "dim = 3\n",
    "structure = jnp.array([dim] * vis)\n",
    "key = jax.random.PRNGKey(0)\n",
    "params = get_random_crbm_params(key, num_visible=vis, num_hidden=hid, max_dim=dim)\n",
    "crbm = CategoricalRBM(vis, hid, theta=params, structure=structure, generate_bitstrings=True)"
   ]
  },
  {
   "attachments": {},
   "cell_type": "markdown",
   "id": "52dc0b11",
   "metadata": {},
   "source": [
    "Return all the probabilities for any possible visible state of the RBM\n",
    "\n",
    "for `dim = 3` and `vis = 4`, we will have 81 possible visible states."
   ]
  },
  {
   "cell_type": "code",
   "execution_count": 14,
   "id": "41ff55c4",
   "metadata": {},
   "outputs": [
    {
     "data": {
      "text/plain": [
       "(81,)"
      ]
     },
     "execution_count": 14,
     "metadata": {},
     "output_type": "execute_result"
    }
   ],
   "source": [
    "probs = crbm.probability_vector()\n",
    "probs.shape"
   ]
  },
  {
   "attachments": {},
   "cell_type": "markdown",
   "id": "0c54678d",
   "metadata": {},
   "source": [
    "### Claculate the conditional probabilities for the hidden nodes given the visible nodes\n",
    "\n",
    "- The visible vectors must be *one-hot encoded*!\n",
    "- And ph_given_v is not vectorized. It only takes a single sample input, e.g. `jnp.array([0,0,0,0])`. It won't work for example for `jnp.array([[0,0,0,0], [1,1,1,1]])`\n",
    "- The output of this function is a vector of probabilities for each node to be 1, given the visible nodes.\n"
   ]
  },
  {
   "cell_type": "code",
   "execution_count": 15,
   "id": "3de075af",
   "metadata": {},
   "outputs": [
    {
     "name": "stdout",
     "output_type": "stream",
     "text": [
      "[[1. 0. 0.]\n",
      " [1. 0. 0.]\n",
      " [1. 0. 0.]\n",
      " [1. 0. 0.]]\n"
     ]
    },
    {
     "data": {
      "text/plain": [
       "Array([0.50380164, 0.5055251 , 0.48830503, 0.5088422 , 0.4791705 ],      dtype=float32)"
      ]
     },
     "execution_count": 15,
     "metadata": {},
     "output_type": "execute_result"
    }
   ],
   "source": [
    "visible_vectors = jnp.array([0, 0, 0, 0])\n",
    "visible_vectors_oh = jax.nn.one_hot(visible_vectors, dim)\n",
    "print(visible_vectors_oh)\n",
    "\n",
    "crbm.compute_ph_given_v(visible_vectors_oh)"
   ]
  },
  {
   "attachments": {},
   "cell_type": "markdown",
   "id": "c841516d",
   "metadata": {},
   "source": [
    "### Claculate the conditional probabilities for the visible nodes given the hidden nodes\n",
    "\n",
    "- The hidden vectors are **NOT** *one-hot encoded*!\n",
    "- And ph_given_v is not vectorized. It only takes a single sample input, e.g. `jnp.array([0,0,0,0,0])`. It won't work for example for `jnp.array([[0,0,0,0,0], [1,1,1,1,1]])`\n",
    "- The output of this function is a vector of probabilities for each node to be 1, given the visible nodes.\n"
   ]
  },
  {
   "cell_type": "code",
   "execution_count": 17,
   "id": "65004b67",
   "metadata": {},
   "outputs": [
    {
     "data": {
      "text/plain": [
       "Array([[0.3300435 , 0.33413428, 0.33582225],\n",
       "       [0.33285573, 0.33148077, 0.33566347],\n",
       "       [0.3356481 , 0.33374014, 0.33061177],\n",
       "       [0.3334181 , 0.33038253, 0.33619934]], dtype=float32)"
      ]
     },
     "execution_count": 17,
     "metadata": {},
     "output_type": "execute_result"
    }
   ],
   "source": [
    "hidden_vectors = jnp.array([0, 0, 0, 0, 0])\n",
    "crbm.compute_pv_given_h(hidden_vectors)"
   ]
  },
  {
   "attachments": {},
   "cell_type": "markdown",
   "id": "bf46fdca",
   "metadata": {},
   "source": [
    "## Sample"
   ]
  },
  {
   "cell_type": "markdown",
   "id": "642a5384",
   "metadata": {},
   "source": [
    "- Below we provide example code for sampling from a CRBM.\n",
    "- The result `r` is a dictionary containing the sampled visible and hidden states, as well as the energy of the sampled states.\n",
    "- The `sampler` object is a `CRBMGibbsSampler`, which implements the Gibbs sampling algorithm for CRBMs.\n",
    "- The `sample_chains` function samples from the CRBM. It takes a batch of visible states as input, samples from the CRBM conditional on those states, and returns the sampled states.\n",
    "- Note that we have to provide the number of chains and the number of samples per chain as arguments to the `CRBMGibbsSampler` object.\n",
    "- We can use this to get samples from the CRBM, which we can then use to compute the probabilities, compute the energy, etc."
   ]
  },
  {
   "cell_type": "code",
   "execution_count": 18,
   "id": "bc1c42d1",
   "metadata": {},
   "outputs": [],
   "source": [
    "sampler = CRBMGibbsSampler(None, 0, 1000, 1)\n",
    "r = sampler.sample_chains(crbm, jnp.expand_dims(visible_vectors_oh, 0), key)\n",
    "\n",
    "visible_vectors_batch = jnp.array([[0, 0, 0, 0], [1, 1, 1, 1]])\n",
    "visible_vectors_batch_oh = jax.nn.one_hot(visible_vectors_batch, dim)\n",
    "sampler = CRBMGibbsSampler(None, 0, 10, 2)\n",
    "r = sampler.sample_chains(crbm, visible_vectors_batch_oh, key)"
   ]
  },
  {
   "cell_type": "markdown",
   "id": "4a541089",
   "metadata": {},
   "source": [
    "-Below we print the result, which is a dictionary containing the sampled visible and hidden states, as well as the energy of the sampled states."
   ]
  },
  {
   "cell_type": "code",
   "execution_count": 21,
   "id": "79899517",
   "metadata": {},
   "outputs": [
    {
     "name": "stdout",
     "output_type": "stream",
     "text": [
      "{'energy': Array([[-0.16913292, -0.0085949 ,  0.04470699,  0.0292549 ,  0.1170828 ,\n",
      "        -0.06824619, -0.05426199, -0.07182784, -0.05006632, -0.166739  ],\n",
      "       [ 0.00611992, -0.07670631, -0.15397528, -0.0365875 , -0.02762325,\n",
      "        -0.08484934,  0.00225205,  0.04843603, -0.12010484,  0.14609396]],      dtype=float32), 'position': {'h': Array([[[1, 1, 0, 1, 1],\n",
      "        [0, 1, 1, 1, 1],\n",
      "        [1, 1, 0, 0, 0],\n",
      "        [0, 0, 1, 1, 0],\n",
      "        [1, 1, 0, 1, 0],\n",
      "        [0, 1, 1, 0, 0],\n",
      "        [1, 1, 0, 0, 0],\n",
      "        [0, 0, 1, 1, 0],\n",
      "        [0, 0, 1, 0, 1],\n",
      "        [1, 1, 0, 1, 1]],\n",
      "\n",
      "       [[0, 0, 0, 0, 1],\n",
      "        [0, 0, 0, 1, 0],\n",
      "        [1, 1, 1, 0, 0],\n",
      "        [1, 0, 0, 0, 1],\n",
      "        [0, 1, 0, 0, 1],\n",
      "        [0, 1, 0, 0, 0],\n",
      "        [1, 1, 0, 0, 1],\n",
      "        [1, 1, 1, 0, 0],\n",
      "        [1, 1, 0, 0, 0],\n",
      "        [1, 1, 0, 1, 0]]], dtype=int8), 'v': Array([[[[0., 0., 1.],\n",
      "         [0., 1., 0.],\n",
      "         [0., 1., 0.],\n",
      "         [1., 0., 0.]],\n",
      "\n",
      "        [[0., 0., 1.],\n",
      "         [1., 0., 0.],\n",
      "         [1., 0., 0.],\n",
      "         [1., 0., 0.]],\n",
      "\n",
      "        [[1., 0., 0.],\n",
      "         [0., 0., 1.],\n",
      "         [1., 0., 0.],\n",
      "         [0., 1., 0.]],\n",
      "\n",
      "        [[1., 0., 0.],\n",
      "         [0., 0., 1.],\n",
      "         [0., 1., 0.],\n",
      "         [1., 0., 0.]],\n",
      "\n",
      "        [[1., 0., 0.],\n",
      "         [0., 0., 1.],\n",
      "         [0., 0., 1.],\n",
      "         [0., 1., 0.]],\n",
      "\n",
      "        [[0., 1., 0.],\n",
      "         [1., 0., 0.],\n",
      "         [1., 0., 0.],\n",
      "         [0., 0., 1.]],\n",
      "\n",
      "        [[0., 0., 1.],\n",
      "         [0., 0., 1.],\n",
      "         [1., 0., 0.],\n",
      "         [0., 1., 0.]],\n",
      "\n",
      "        [[0., 1., 0.],\n",
      "         [1., 0., 0.],\n",
      "         [0., 1., 0.],\n",
      "         [0., 0., 1.]],\n",
      "\n",
      "        [[0., 0., 1.],\n",
      "         [0., 1., 0.],\n",
      "         [0., 1., 0.],\n",
      "         [1., 0., 0.]],\n",
      "\n",
      "        [[0., 0., 1.],\n",
      "         [0., 0., 1.],\n",
      "         [1., 0., 0.],\n",
      "         [1., 0., 0.]]],\n",
      "\n",
      "\n",
      "       [[[1., 0., 0.],\n",
      "         [0., 0., 1.],\n",
      "         [1., 0., 0.],\n",
      "         [0., 0., 1.]],\n",
      "\n",
      "        [[0., 0., 1.],\n",
      "         [0., 0., 1.],\n",
      "         [1., 0., 0.],\n",
      "         [0., 0., 1.]],\n",
      "\n",
      "        [[0., 1., 0.],\n",
      "         [0., 1., 0.],\n",
      "         [1., 0., 0.],\n",
      "         [1., 0., 0.]],\n",
      "\n",
      "        [[0., 0., 1.],\n",
      "         [0., 0., 1.],\n",
      "         [0., 0., 1.],\n",
      "         [1., 0., 0.]],\n",
      "\n",
      "        [[0., 0., 1.],\n",
      "         [0., 0., 1.],\n",
      "         [0., 0., 1.],\n",
      "         [0., 1., 0.]],\n",
      "\n",
      "        [[0., 0., 1.],\n",
      "         [0., 0., 1.],\n",
      "         [0., 1., 0.],\n",
      "         [1., 0., 0.]],\n",
      "\n",
      "        [[0., 0., 1.],\n",
      "         [1., 0., 0.],\n",
      "         [1., 0., 0.],\n",
      "         [0., 1., 0.]],\n",
      "\n",
      "        [[1., 0., 0.],\n",
      "         [0., 0., 1.],\n",
      "         [1., 0., 0.],\n",
      "         [1., 0., 0.]],\n",
      "\n",
      "        [[0., 1., 0.],\n",
      "         [0., 1., 0.],\n",
      "         [0., 1., 0.],\n",
      "         [0., 0., 1.]],\n",
      "\n",
      "        [[1., 0., 0.],\n",
      "         [0., 1., 0.],\n",
      "         [0., 0., 1.],\n",
      "         [0., 1., 0.]]]], dtype=float32)}}\n"
     ]
    }
   ],
   "source": [
    "print(r)"
   ]
  },
  {
   "cell_type": "code",
   "execution_count": null,
   "id": "dc6f3099",
   "metadata": {},
   "outputs": [],
   "source": []
  }
 ],
 "metadata": {
  "kernelspec": {
   "display_name": "Python 3.9.16 ('learn_jax')",
   "language": "python",
   "name": "python3"
  },
  "language_info": {
   "codemirror_mode": {
    "name": "ipython",
    "version": 3
   },
   "file_extension": ".py",
   "mimetype": "text/x-python",
   "name": "python",
   "nbconvert_exporter": "python",
   "pygments_lexer": "ipython3",
   "version": "3.10.14"
  },
  "vscode": {
   "interpreter": {
    "hash": "9de05cabd0065c957d7dba640313a9cffb6a721927d375cf35f9455db1b9cd1e"
   }
  }
 },
 "nbformat": 4,
 "nbformat_minor": 5
}
