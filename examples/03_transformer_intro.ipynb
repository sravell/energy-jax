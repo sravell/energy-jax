{
 "cells": [
  {
   "cell_type": "markdown",
   "id": "29088ff4",
   "metadata": {},
   "source": [
    "# Transformers\n",
    "\n",
    "In this notebook we will be walking through a simple example using the energax transformer implementation. This demo notebook will not contain EBM usage explicitly, but just goes through the transformer architecture as it forms the backbone of many modern techniques. We will try to stay pretty similar to the original transformer (https://arxiv.org/abs/1706.03762)."
   ]
  },
  {
   "cell_type": "code",
   "execution_count": 1,
   "id": "f7e0992a",
   "metadata": {},
   "outputs": [],
   "source": [
    "# from tqdm.notebook import tqdm\n",
    "from energax.nns import Transformer\n",
    "import jax\n",
    "from jax import numpy as jnp\n",
    "import equinox as eqx\n",
    "import matplotlib.pyplot as plt\n",
    "import optax"
   ]
  },
  {
   "cell_type": "markdown",
   "id": "2bead8f0",
   "metadata": {},
   "source": [
    "First we need to make a simple dataset. Although we could use common NLP datasets, these are much larger and take much longer to train (e.g. hours even on a good GPU), so for the sake of pedagogy we work with a simpler example. This example is inspired by (https://uvadlc-notebooks.readthedocs.io/en/latest/tutorial_notebooks/JAX/tutorial6/Transformers_and_MHAttention.html). The goal of the encoder-decoder based transformer is sequence to sequence prediction (e.g. translation). In this case, we will simply be reversing a set of input tokens. Note that this is a problem in which transformers will shine over something like RNNs since transformers can attend across the whole of the input length.\n",
    "\n",
    "The dataset consists of various length-ed arrays of integers/tokens. There is a maximum length and a maximum token value, but just like with NLP tasks, not every input is the same length (in NLP not every sentence is the same number of tokens). To work with these ragged arrays in an efficient manner in jax, we simply pad out them out (not an uncommon strategy in transformers)."
   ]
  },
  {
   "cell_type": "code",
   "execution_count": 2,
   "id": "7946c3c4",
   "metadata": {},
   "outputs": [],
   "source": [
    "def make_dataset(size, length, maxval, key):\n",
    "    data = jnp.zeros(shape=(size, length))\n",
    "    trg = jnp.zeros(shape=(size, length))\n",
    "\n",
    "    jit_f = jax.jit(jax.random.randint, static_argnames=[\"shape\"])\n",
    "    jit_flip = jax.jit(jnp.flip)\n",
    "\n",
    "    for i in range(size):  # tqdm(range(size)):\n",
    "        key, subkey = jax.random.split(key, 2)\n",
    "        l = jit_f(key, shape=(), minval=2, maxval=length - 2)\n",
    "        point = jit_f(subkey, shape=(int(l + 2),), minval=3, maxval=maxval)\n",
    "        trg_point = jit_flip(point)\n",
    "\n",
    "        point = point.at[-1].set(2)\n",
    "        point = point.at[0].set(1)\n",
    "        point = jnp.pad(\n",
    "            point, (0, length - l - 2), \"constant\", constant_values=padding_token\n",
    "        )\n",
    "        data = data.at[i].set(point)\n",
    "\n",
    "        trg_point = trg_point.at[-1].set(2)\n",
    "        trg_point = trg_point.at[0].set(1)\n",
    "        trg_point = jnp.pad(\n",
    "            trg_point, (0, length - l - 2), \"constant\", constant_values=padding_token\n",
    "        )\n",
    "        trg = trg.at[i].set(trg_point)\n",
    "\n",
    "    return data.astype(\"int16\"), trg.astype(\"int16\")"
   ]
  },
  {
   "cell_type": "markdown",
   "id": "d4b3e24d",
   "metadata": {},
   "source": [
    "In order to differentiate between the \"text\" and the padding, we have to define 3 special tokens: beginning, ending, and padding. These tokens are essential to the training. Every input array must start with a beginning token and end with an ending token. The rest can be padded with the padding token. These are important because it enables us to train the transformer in an efficient manner. If we have seq1 and seq2 as the inputs for sequence to sequence modelling we can put seq1 in the encoder and offset decoder input and output. So the target output of the decoder is shifted left by one (to predict the next token). This means we can train the transformer to be an autoregressive translater without having to train it in the same way (i.e. taking the predicted output token then feeding it back into the input of the decoder). For more details on this architecture see https://www.tensorflow.org/text/tutorials/transformer and http://jalammar.github.io/illustrated-transformer/. "
   ]
  },
  {
   "cell_type": "code",
   "execution_count": 3,
   "id": "0d74e585",
   "metadata": {},
   "outputs": [
    {
     "data": {
      "application/vnd.jupyter.widget-view+json": {
       "model_id": "6fc7cc5db9684e60997784e895a3392e",
       "version_major": 2,
       "version_minor": 0
      },
      "text/plain": [
       "  0%|          | 0/8000 [00:00<?, ?it/s]"
      ]
     },
     "metadata": {},
     "output_type": "display_data"
    },
    {
     "data": {
      "application/vnd.jupyter.widget-view+json": {
       "model_id": "beaf34a8fbf44db0b6dfbdad6c7ae92f",
       "version_major": 2,
       "version_minor": 0
      },
      "text/plain": [
       "  0%|          | 0/1000 [00:00<?, ?it/s]"
      ]
     },
     "metadata": {},
     "output_type": "display_data"
    }
   ],
   "source": [
    "key = jax.random.PRNGKey(42)\n",
    "key, train_key, test_key = jax.random.split(key, 3)\n",
    "\n",
    "beginning_token = 1\n",
    "ending_token = 2\n",
    "padding_token = 0\n",
    "length = 10\n",
    "maxval = 15\n",
    "\n",
    "train_seq_in, train_seq_trg = make_dataset(8_000, length, maxval, train_key)\n",
    "test_seq_in, test_seq_trg = make_dataset(1_000, length, maxval, test_key)"
   ]
  },
  {
   "cell_type": "markdown",
   "id": "d9a9d15d",
   "metadata": {},
   "source": [
    "We see that inside the beginning and ending tokens, the numbers are reversed."
   ]
  },
  {
   "cell_type": "code",
   "execution_count": 4,
   "id": "fcbd68d6",
   "metadata": {},
   "outputs": [
    {
     "name": "stdout",
     "output_type": "stream",
     "text": [
      "[ 1  7  3 14  7  3  2  0  0  0] [ 1  3  7 14  3  7  2  0  0  0]\n"
     ]
    }
   ],
   "source": [
    "print(train_seq_in[0], train_seq_trg[0])"
   ]
  },
  {
   "cell_type": "markdown",
   "id": "5e71f8f0",
   "metadata": {},
   "source": [
    "Now we define the transformer. To keep everything fast and small, we make the transformer pretty small. The original transformer had 8 heads, dk of 64 and dff of 1028. Keep in mind that in this transformer the key, query, and value dims are all the same (hence you only have to define one of them). "
   ]
  },
  {
   "cell_type": "code",
   "execution_count": 5,
   "id": "8b8ac6a5",
   "metadata": {},
   "outputs": [],
   "source": [
    "key, subkey = jax.random.split(key, 2)\n",
    "n_heads = 2\n",
    "d_q = 16\n",
    "d_ff = 32\n",
    "transformer = Transformer(\n",
    "    enc_depth=2,\n",
    "    dec_depth=2,\n",
    "    n_heads=n_heads,\n",
    "    d_q=d_q,\n",
    "    d_ff=d_ff,\n",
    "    max_len=length,\n",
    "    input_vocab_size=maxval + 1,\n",
    "    target_vocab_size=maxval + 1,\n",
    "    key=subkey,\n",
    "    padding_value=padding_token,\n",
    ")"
   ]
  },
  {
   "cell_type": "markdown",
   "id": "18c78ce9",
   "metadata": {},
   "source": [
    "Let's see how many trainable parameters this transformer has."
   ]
  },
  {
   "cell_type": "code",
   "execution_count": 6,
   "id": "10927f5e",
   "metadata": {},
   "outputs": [
    {
     "name": "stdout",
     "output_type": "stream",
     "text": [
      "12240\n"
     ]
    }
   ],
   "source": [
    "param_count = sum(\n",
    "    x.size for x in jax.tree_util.tree_leaves(eqx.filter(transformer, eqx.is_array))\n",
    ")\n",
    "print(param_count)"
   ]
  },
  {
   "cell_type": "markdown",
   "id": "fd5a37eb",
   "metadata": {},
   "source": [
    "If we look at the output of the transformer it should be (max_length, output_vocab_size), which is exactly what we see. This output is because the transformer outputs the logits (un-normalized log probs) for each of the vocab words for each of the positions. When translating, we only take the next token though, and generate autoregressively. "
   ]
  },
  {
   "cell_type": "code",
   "execution_count": 7,
   "id": "d2851d8f",
   "metadata": {},
   "outputs": [],
   "source": [
    "x = transformer.enc_dec_call(train_seq_in[0], train_seq_trg[0], key=key)"
   ]
  },
  {
   "cell_type": "code",
   "execution_count": 8,
   "id": "927b2354",
   "metadata": {},
   "outputs": [
    {
     "data": {
      "text/plain": [
       "(10, 16)"
      ]
     },
     "execution_count": 8,
     "metadata": {},
     "output_type": "execute_result"
    }
   ],
   "source": [
    "x.shape"
   ]
  },
  {
   "cell_type": "markdown",
   "id": "d3525b0d",
   "metadata": {},
   "source": [
    "The transformer paper used a unique learning rate schedule, which is easy to recreate in optax, just write a function of the number of steps and initialize the optimizer with it."
   ]
  },
  {
   "cell_type": "code",
   "execution_count": 9,
   "id": "3b34c641",
   "metadata": {},
   "outputs": [
    {
     "data": {
      "image/png": "[encoded data removed]",
      "text/plain": [
       "<Figure size 640x480 with 1 Axes>"
      ]
     },
     "metadata": {},
     "output_type": "display_data"
    }
   ],
   "source": [
    "warmup_steps = 65\n",
    "schedule = lambda x: (n_heads * d_q) ** -0.5 * jnp.minimum(\n",
    "    x**-0.5, x * warmup_steps**-1.5\n",
    ")\n",
    "optimizer = optax.adam(schedule)\n",
    "opt_state = optimizer.init(eqx.filter(transformer, eqx.is_array))\n",
    "\n",
    "lrs = jax.vmap(schedule)(jnp.arange(1_000))\n",
    "\n",
    "plt.plot(lrs)\n",
    "plt.xlabel(\"Iteration\")\n",
    "plt.ylabel(\"Learning rate\")\n",
    "plt.show()"
   ]
  },
  {
   "cell_type": "markdown",
   "id": "0ba0c6b8",
   "metadata": {},
   "source": [
    "Now we have all the training functions. The important thing to remember here is that we need to mask the loss/accuracy, since not all of the array input is actually to be dealt with (this is handled internally in the transformer, which is why we aren't passing masks to it). The other thing to keep in mind is that we need to shift the input/output of the decoder part of the transformer."
   ]
  },
  {
   "cell_type": "code",
   "execution_count": 10,
   "id": "4184eb46",
   "metadata": {},
   "outputs": [],
   "source": [
    "def masked_loss(logits, labels):\n",
    "    mask = labels != padding_token\n",
    "    loss = optax.softmax_cross_entropy_with_integer_labels(logits, labels)\n",
    "    loss = loss * mask\n",
    "    loss = jnp.sum(loss) / jnp.sum(mask)\n",
    "    return loss\n",
    "\n",
    "\n",
    "def masked_accuracy(logits, labels):\n",
    "    preds = jnp.argmax(logits, axis=-1)\n",
    "    match = (labels == preds).astype(\"int16\")\n",
    "    mask = (labels != padding_token).astype(\"int16\")\n",
    "    match = (mask & match).astype(\"float32\")\n",
    "    mask = mask.astype(\"float32\")\n",
    "    return jnp.sum(match) / jnp.sum(mask)\n",
    "\n",
    "\n",
    "def model_loss(model, src, trg, labels, key):\n",
    "    logits = model.enc_dec_call(src, trg, enable_dropout=True, key=key)\n",
    "    return masked_loss(logits, labels), logits\n",
    "\n",
    "\n",
    "def vmap_loss(model, src, trg, labels, key):\n",
    "    loss, logits = eqx.filter_vmap(model_loss, in_axes=(None, 0, 0, 0, 0))(\n",
    "        model, src, trg, labels, key\n",
    "    )\n",
    "    return jnp.mean(loss), logits\n",
    "\n",
    "\n",
    "def concat(x, y):\n",
    "    return jnp.concatenate((x, y), axis=0)\n",
    "\n",
    "\n",
    "@eqx.filter_jit\n",
    "def eval_model(model, inputs, key):\n",
    "    src, trg = inputs[0], inputs[1]\n",
    "    ins = jax.vmap(concat, in_axes=(0, None))(\n",
    "        jnp.where(trg == ending_token, padding_token, trg)[:, :-1],\n",
    "        jnp.array([padding_token]),\n",
    "    )\n",
    "    labels = jax.vmap(concat, in_axes=(0, None))(trg[:, 1:], jnp.array([padding_token]))\n",
    "    keys = jax.random.split(key, len(src))\n",
    "\n",
    "    loss, logits = vmap_loss(model, src, ins, labels, keys)\n",
    "\n",
    "    accuracy = jnp.mean(eqx.filter_vmap(masked_accuracy)(logits, labels))\n",
    "\n",
    "    return loss, accuracy\n",
    "\n",
    "\n",
    "@eqx.filter_jit\n",
    "def step(model, inputs, opt_state, key):\n",
    "    src, trg = inputs[0], inputs[1]\n",
    "    ins = jax.vmap(concat, in_axes=(0, None))(\n",
    "        jnp.where(trg == ending_token, padding_token, trg)[:, :-1],\n",
    "        jnp.array([padding_token]),\n",
    "    )\n",
    "    labels = jax.vmap(concat, in_axes=(0, None))(trg[:, 1:], jnp.array([padding_token]))\n",
    "    keys = jax.random.split(key, batch_size)\n",
    "\n",
    "    (loss, logits), grads = eqx.filter_value_and_grad(vmap_loss, has_aux=True)(\n",
    "        model, src, ins, labels, keys\n",
    "    )\n",
    "\n",
    "    updates, opt_state = optimizer.update(grads, opt_state, model)\n",
    "    model = eqx.apply_updates(model, updates)\n",
    "\n",
    "    accuracy = jnp.mean(eqx.filter_vmap(masked_accuracy)(logits, labels))\n",
    "\n",
    "    return model, opt_state, loss, accuracy"
   ]
  },
  {
   "cell_type": "markdown",
   "id": "28b94728",
   "metadata": {},
   "source": [
    "Now let's train!"
   ]
  },
  {
   "cell_type": "code",
   "execution_count": 11,
   "id": "4fbfb2ca",
   "metadata": {},
   "outputs": [
    {
     "data": {
      "application/vnd.jupyter.widget-view+json": {
       "model_id": "12867149076742628b67de96da38a6ef",
       "version_major": 2,
       "version_minor": 0
      },
      "text/plain": [
       "  0%|          | 0/100 [00:00<?, ?it/s]"
      ]
     },
     "metadata": {},
     "output_type": "display_data"
    }
   ],
   "source": [
    "batch_size = 50\n",
    "epochs = 1  # 100\n",
    "losses = []\n",
    "accs = []\n",
    "val_losses = []\n",
    "val_accs = []\n",
    "total_batches = train_seq_in.shape[0] // batch_size\n",
    "training_data = range(0, train_seq_in.shape[0], batch_size)\n",
    "\n",
    "\n",
    "for e in range(epochs):  # tqdm(range(epochs)):\n",
    "    inner_l = []\n",
    "    inner_a = []\n",
    "    for i in training_data:\n",
    "        inputs = (train_seq_in[i : i + batch_size], train_seq_trg[i : i + batch_size])\n",
    "        key, subkey = jax.random.split(key, 2)\n",
    "        transformer, opt_state, loss, accuracy = step(\n",
    "            transformer, inputs, opt_state, subkey\n",
    "        )\n",
    "        inner_l.append(loss)\n",
    "        inner_a.append(accuracy)\n",
    "    l, a = eval_model(transformer, (test_seq_in, test_seq_trg), key)\n",
    "    val_losses.append(l)\n",
    "    val_accs.append(a)\n",
    "    losses.append(inner_l)\n",
    "    accs.append(inner_a)"
   ]
  },
  {
   "cell_type": "code",
   "execution_count": 12,
   "id": "a3b653c3",
   "metadata": {},
   "outputs": [],
   "source": [
    "losses = jnp.array(losses)\n",
    "accs = jnp.array(accs)"
   ]
  },
  {
   "cell_type": "markdown",
   "id": "bfcd6a44",
   "metadata": {},
   "source": [
    "Plotting the accuracy and losses shows how well the transformer is doing on our simple task. "
   ]
  },
  {
   "cell_type": "code",
   "execution_count": 13,
   "id": "7667b315",
   "metadata": {
    "scrolled": false
   },
   "outputs": [
    {
     "data": {
      "image/png": "[encoded data removed]",
      "text/plain": [
       "<Figure size 1200x500 with 2 Axes>"
      ]
     },
     "metadata": {},
     "output_type": "display_data"
    }
   ],
   "source": [
    "accs1 = jnp.mean(accs, axis=-1)\n",
    "losses1 = jnp.mean(losses, axis=-1)\n",
    "\n",
    "epochs = range(1, len(accs) + 1)\n",
    "\n",
    "# Create a figure with two subplots side by side\n",
    "fig, (ax1, ax2) = plt.subplots(1, 2, figsize=(12, 5))\n",
    "\n",
    "# Plot accuracy per epoch\n",
    "ax1.plot(\n",
    "    epochs,\n",
    "    accs1,\n",
    "    marker=\"o\",\n",
    "    linestyle=\"-\",\n",
    "    linewidth=2,\n",
    "    markersize=3,\n",
    "    color=\"blue\",\n",
    "    label=\"Train Accuracy\",\n",
    ")\n",
    "ax1.plot(\n",
    "    epochs,\n",
    "    val_accs,\n",
    "    marker=\"o\",\n",
    "    linestyle=\"-\",\n",
    "    linewidth=2,\n",
    "    markersize=3,\n",
    "    color=\"green\",\n",
    "    label=\"Test Accuracy\",\n",
    ")\n",
    "ax1.set_xlabel(\"Epochs\", fontsize=12)\n",
    "ax1.set_ylabel(\"Accuracy\", fontsize=12)\n",
    "ax1.set_title(\"Accuracy per Epoch\", fontsize=14)\n",
    "ax1.grid(True)\n",
    "ax1.legend()\n",
    "\n",
    "# Plot losses per epoch\n",
    "ax2.plot(\n",
    "    epochs,\n",
    "    losses1,\n",
    "    marker=\"s\",\n",
    "    linestyle=\"-\",\n",
    "    linewidth=2,\n",
    "    markersize=3,\n",
    "    color=\"red\",\n",
    "    label=\"Train Loss\",\n",
    ")\n",
    "ax2.plot(\n",
    "    epochs,\n",
    "    val_losses,\n",
    "    marker=\"o\",\n",
    "    linestyle=\"-\",\n",
    "    linewidth=2,\n",
    "    markersize=3,\n",
    "    color=\"orange\",\n",
    "    label=\"Test Less\",\n",
    ")\n",
    "ax2.set_xlabel(\"Epochs\", fontsize=12)\n",
    "ax2.set_ylabel(\"Loss\", fontsize=12)\n",
    "ax2.set_title(\"Loss per Epoch\", fontsize=14)\n",
    "ax2.grid(True)\n",
    "ax2.legend()\n",
    "\n",
    "# Display the plots\n",
    "plt.tight_layout()\n",
    "plt.show()"
   ]
  },
  {
   "cell_type": "markdown",
   "id": "1a4ff982",
   "metadata": {},
   "source": [
    "To do \"inference\"/translation, we need to change the setup a little. We generate the whole output, but only take one token (the next one) at a time, then use that token and predict the next one based on that input (i.e. we infer autoregressively)."
   ]
  },
  {
   "cell_type": "code",
   "execution_count": 14,
   "id": "489fe5dd",
   "metadata": {},
   "outputs": [],
   "source": [
    "fwd = eqx.filter_jit(transformer.enc_dec_call)\n",
    "\n",
    "\n",
    "def translate(inputs):\n",
    "    encoder_input = inputs\n",
    "    output_array = jnp.zeros(shape=(length,))  # padding token\n",
    "    output_array = output_array.at[0].set(beginning_token)\n",
    "\n",
    "    def body_fun(i, val):\n",
    "        if ending_token in val:\n",
    "            return val\n",
    "        logits = fwd(encoder_input, val, enable_dropout=False)\n",
    "        pred = jnp.argmax(logits, axis=-1)[i]\n",
    "        return val.at[i + 1].set(pred)\n",
    "\n",
    "    val = output_array\n",
    "    for i in range(length - 1):\n",
    "        val = body_fun(i, val)\n",
    "\n",
    "    return val"
   ]
  },
  {
   "cell_type": "markdown",
   "id": "0798b17a",
   "metadata": {},
   "source": [
    "Let's look at some simple examples."
   ]
  },
  {
   "cell_type": "code",
   "execution_count": 15,
   "id": "1de2d344",
   "metadata": {},
   "outputs": [],
   "source": [
    "nums = [5, 6, 7, 8]\n",
    "tokenized = [beginning_token] + nums + [ending_token]\n",
    "inputs = jnp.array(tokenized + [padding_token for _ in range(length - len(tokenized))])\n",
    "\n",
    "rev = list(reversed(nums))\n",
    "tokenized_rev = [beginning_token] + rev + [ending_token]\n",
    "reved = jnp.array(\n",
    "    tokenized_rev + [padding_token for _ in range(length - len(tokenized_rev))]\n",
    ")\n",
    "\n",
    "output = translate(inputs)"
   ]
  },
  {
   "cell_type": "code",
   "execution_count": 16,
   "id": "b02b8554",
   "metadata": {},
   "outputs": [
    {
     "name": "stdout",
     "output_type": "stream",
     "text": [
      "Inputs [1 5 6 7 8 2 0 0 0 0]\n",
      "REVERSED: [8, 7, 6, 5]\n",
      "Transformer: [1. 8. 7. 6. 5. 2. 0. 0. 0. 0.]\n"
     ]
    }
   ],
   "source": [
    "print(\"Inputs\", inputs)\n",
    "print(\"REVERSED:\", rev)\n",
    "print(\"Transformer:\", output)"
   ]
  },
  {
   "cell_type": "code",
   "execution_count": 17,
   "id": "b50ded25",
   "metadata": {},
   "outputs": [],
   "source": [
    "nums = [\n",
    "    10,\n",
    "    12,\n",
    "    5,\n",
    "    9,\n",
    "    8,\n",
    "    9,\n",
    "]\n",
    "tokenized = [beginning_token] + nums + [ending_token]\n",
    "inputs = jnp.array(tokenized + [padding_token for _ in range(length - len(tokenized))])\n",
    "output = translate(inputs)"
   ]
  },
  {
   "cell_type": "code",
   "execution_count": 18,
   "id": "9e9a7c1e",
   "metadata": {},
   "outputs": [
    {
     "name": "stdout",
     "output_type": "stream",
     "text": [
      "Inputs [ 1 10 12  5  9  8  9  2  0  0]\n",
      "REVERSED: [9, 8, 9, 5, 12, 10]\n",
      "Transformer: [ 1.  9.  8.  9.  5. 12. 10.  2.  0.  0.]\n"
     ]
    }
   ],
   "source": [
    "print(\"Inputs\", inputs)\n",
    "print(\"REVERSED:\", list(reversed(nums)))\n",
    "print(\"Transformer:\", output)"
   ]
  },
  {
   "cell_type": "code",
   "execution_count": null,
   "id": "340832d2",
   "metadata": {},
   "outputs": [],
   "source": []
  }
 ],
 "metadata": {
  "kernelspec": {
   "display_name": "Python 3.9.16 ('learn_jax')",
   "language": "python",
   "name": "python3"
  },
  "language_info": {
   "codemirror_mode": {
    "name": "ipython",
    "version": 3
   },
   "file_extension": ".py",
   "mimetype": "text/x-python",
   "name": "python",
   "nbconvert_exporter": "python",
   "pygments_lexer": "ipython3",
   "version": "3.9.16"
  },
  "vscode": {
   "interpreter": {
    "hash": "9de05cabd0065c957d7dba640313a9cffb6a721927d375cf35f9455db1b9cd1e"
   }
  }
 },
 "nbformat": 4,
 "nbformat_minor": 5
}
